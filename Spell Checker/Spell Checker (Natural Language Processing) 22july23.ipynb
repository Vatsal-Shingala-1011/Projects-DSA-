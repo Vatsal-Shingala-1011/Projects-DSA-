{
 "cells": [
  {
   "cell_type": "markdown",
   "id": "9a7d14fb",
   "metadata": {},
   "source": [
    "# TextBlob"
   ]
  },
  {
   "cell_type": "code",
   "execution_count": 1,
   "id": "28e6c9fa",
   "metadata": {},
   "outputs": [],
   "source": [
    "# here we so spell checking using NLP library textblob"
   ]
  },
  {
   "cell_type": "code",
   "execution_count": 2,
   "id": "7bcc2c4c",
   "metadata": {},
   "outputs": [],
   "source": [
    "# !pip install textblob"
   ]
  },
  {
   "cell_type": "code",
   "execution_count": 3,
   "id": "18ab1daf",
   "metadata": {},
   "outputs": [
    {
     "name": "stderr",
     "output_type": "stream",
     "text": [
      "C:\\ProgramData\\Anaconda3\\lib\\site-packages\\scipy\\__init__.py:146: UserWarning: A NumPy version >=1.16.5 and <1.23.0 is required for this version of SciPy (detected version 1.25.1\n",
      "  warnings.warn(f\"A NumPy version >={np_minversion} and <{np_maxversion}\"\n"
     ]
    }
   ],
   "source": [
    "from textblob import TextBlob"
   ]
  },
  {
   "cell_type": "code",
   "execution_count": 4,
   "id": "594ef095",
   "metadata": {},
   "outputs": [],
   "source": [
    "a=TextBlob('''Most organizations are familiar with KPIs, or Key Performance Indicators. KPIs can be great for\n",
    "measurement, but they’re standalone metrics — they may tell you when a measure is good or bad, but they don’t\n",
    "necessarily communicate context or what direction your team needs to go in''')"
   ]
  },
  {
   "cell_type": "code",
   "execution_count": 5,
   "id": "93fa3ee4",
   "metadata": {},
   "outputs": [
    {
     "data": {
      "text/plain": [
       "TextBlob(\"Most organizations are familiar with KPIs, or Key Performance Indicator. KPIs can be great for\n",
       "measurement, but they’re standalone merits — they may tell you when a measure is good or bad, but they don’t\n",
       "necessarily communicate context or what direction your team needs to go in\")"
      ]
     },
     "execution_count": 5,
     "metadata": {},
     "output_type": "execute_result"
    }
   ],
   "source": [
    "a.correct()"
   ]
  },
  {
   "cell_type": "code",
   "execution_count": 8,
   "id": "cf0a1928",
   "metadata": {},
   "outputs": [
    {
     "name": "stdout",
     "output_type": "stream",
     "text": [
      "\n",
      "************** Spell Checker **************\n",
      "1. Check sentences or word is valid or not \n",
      "2. Exit\n",
      "Enter your choice: 1\n",
      "Enter sentences or word: Check sentences or word is valid or not\n",
      "\n",
      "\n",
      "given sentences is correct\n",
      "\n",
      "************** Spell Checker **************\n",
      "1. Check sentences or word is valid or not \n",
      "2. Exit\n",
      "Enter your choice: Check sentences or wosrd is valid or not\n",
      "Invalid choice. Please try again.\n",
      "\n",
      "************** Spell Checker **************\n",
      "1. Check sentences or word is valid or not \n",
      "2. Exit\n",
      "Enter your choice: 1\n",
      "Enter sentences or word: Check sentences or wosrd is valid or not\n",
      "\n",
      "\n",
      "correct sentences is : \n",
      "Check sentences or word is valid or not\n",
      "\n",
      "************** Spell Checker **************\n",
      "1. Check sentences or word is valid or not \n",
      "2. Exit\n",
      "Enter your choice: 2\n",
      "Exiting Spell Checker System. Goodbye!\n",
      "\n"
     ]
    }
   ],
   "source": [
    "choice = None\n",
    "while choice != \"2\":\n",
    "    print(\"\\n************** Spell Checker **************\")\n",
    "    print(\"1. Check sentences or word is valid or not \")\n",
    "    print(\"2. Exit\")\n",
    "    choice = input(\"Enter your choice: \")\n",
    "    if choice == \"1\":\n",
    "        w = input(\"Enter sentences or word: \")\n",
    "        a=TextBlob(w)\n",
    "        str=a.correct()\n",
    "        print()\n",
    "        if w == str:\n",
    "            print(\"given sentences is correct\")\n",
    "        else:\n",
    "            print(\"correct sentences is : \")\n",
    "            print(str)\n",
    "    elif choice == \"2\":\n",
    "        print(\"Exiting Spell Checker System. Goodbye!\\n\")\n",
    "    else:\n",
    "        print(\"Invalid choice. Please try again.\")"
   ]
  },
  {
   "cell_type": "code",
   "execution_count": null,
   "id": "b6a5c2e8",
   "metadata": {},
   "outputs": [],
   "source": []
  },
  {
   "cell_type": "code",
   "execution_count": null,
   "id": "3b71b963",
   "metadata": {},
   "outputs": [],
   "source": []
  }
 ],
 "metadata": {
  "kernelspec": {
   "display_name": "Python 3 (ipykernel)",
   "language": "python",
   "name": "python3"
  },
  "language_info": {
   "codemirror_mode": {
    "name": "ipython",
    "version": 3
   },
   "file_extension": ".py",
   "mimetype": "text/x-python",
   "name": "python",
   "nbconvert_exporter": "python",
   "pygments_lexer": "ipython3",
   "version": "3.9.12"
  }
 },
 "nbformat": 4,
 "nbformat_minor": 5
}
